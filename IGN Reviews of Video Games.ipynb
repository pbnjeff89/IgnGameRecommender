{
 "cells": [
  {
   "cell_type": "markdown",
   "metadata": {},
   "source": [
    "# Importing the data\n",
    "\n",
    "Originally, the file I imported is the ```ign.csv``` file from [here](https://www.kaggle.com/egrinstein/20-years-of-games). The section below demonstrates how I scraped the IGN website to find reviews to add in more data."
   ]
  },
  {
   "cell_type": "code",
   "execution_count": 1,
   "metadata": {},
   "outputs": [],
   "source": [
    "import pandas as pd"
   ]
  },
  {
   "cell_type": "code",
   "execution_count": 6,
   "metadata": {},
   "outputs": [],
   "source": [
    "df = pd.read_csv('ign.csv')"
   ]
  },
  {
   "cell_type": "markdown",
   "metadata": {},
   "source": [
    "# Scraping reviews to add in more data\n",
    "\n",
    "It was kind of the compiler of this data to obtain the URLs. It made scraping IGN for its reviews a lot easier! I'm using BeautifulSoup to scrape the reviews. Overall, this worked for a good number of entries. A couple possibilities for why some reviews are not in the data:\n",
    "\n",
    "1. Some games have video reviews, and I'm not really at a point where I would like to try to pull data from a video.\n",
    "\n",
    "2. Maybe a review was not in the ```top-mixed-media``` class of ```div``` tags.\n",
    "\n",
    "I noticed that some pages have multiple reviews, but to simplify the data-gathering a bit, I wanted to pick one of them. Any one would do."
   ]
  },
  {
   "cell_type": "markdown",
   "metadata": {},
   "source": [
    "The ```urllib``` imports below are strictly ```Python 3.x```. For ```Python 2.x``` the module should be ```urllib2```. I imported the ```time.sleep``` method so that IGN doesn't get mad at me for inundating them with HTTP requests."
   ]
  },
  {
   "cell_type": "code",
   "execution_count": 7,
   "metadata": {},
   "outputs": [],
   "source": [
    "from urllib.request import urlopen\n",
    "from urllib.error import HTTPError\n",
    "from time import sleep\n",
    "\n",
    "from bs4 import BeautifulSoup"
   ]
  },
  {
   "cell_type": "markdown",
   "metadata": {},
   "source": [
    "I've found that sometimes reviews pages do not exist for some reason, either because the link was not found in the HTML, or if it did, the page was missing for some reason. In either case, I handled that by simply returning an empty string for the review."
   ]
  },
  {
   "cell_type": "code",
   "execution_count": 8,
   "metadata": {},
   "outputs": [],
   "source": [
    "def get_review(row):\n",
    "    game_link = row['url']\n",
    "    game_address = 'http://www.ign.com' + game_link\n",
    "    \n",
    "    try:\n",
    "        main_game_page = urlopen(game_address)\n",
    "        main_page_soup = BeautifulSoup(main_game_page, 'html.parser')\n",
    "\n",
    "        likely_rev_location = main_page_soup.find('div', attrs={'class': 'top-mixed-media'})\n",
    "\n",
    "        links = likely_rev_location.find_all('a')\n",
    "\n",
    "        link_to_review = None\n",
    "\n",
    "        for link in links:\n",
    "            if 'review' in link.get('href').lower():\n",
    "                link_to_review = link.get('href')\n",
    "\n",
    "        review_text = ''\n",
    "\n",
    "        if link_to_review:\n",
    "            sleep(1.25)\n",
    "            rev_page = urlopen(link_to_review)\n",
    "            rev_page_soup = BeautifulSoup(rev_page, 'html.parser')\n",
    "\n",
    "            review_div = rev_page_soup.find('div', attrs={'class': 'article-content'})\n",
    "            if review_div:\n",
    "                review_text = ' '.join(review_div.get_text().replace('\\n','').replace('Share.','').split())\n",
    "            else:\n",
    "                review_text = ''\n",
    "    except HTTPError:\n",
    "        review_text = ''\n",
    "        \n",
    "    return review_text"
   ]
  },
  {
   "cell_type": "code",
   "execution_count": 9,
   "metadata": {},
   "outputs": [],
   "source": [
    "df['review'] = df.apply(get_review, axis=1)"
   ]
  },
  {
   "cell_type": "markdown",
   "metadata": {},
   "source": [
    "I'd rather not rescrape this every single time, so I'll save the file."
   ]
  },
  {
   "cell_type": "code",
   "execution_count": 10,
   "metadata": {},
   "outputs": [],
   "source": [
    "df.to_csv('ign_with_reviews.csv', sep=',', index=False)"
   ]
  },
  {
   "cell_type": "code",
   "execution_count": 2,
   "metadata": {},
   "outputs": [],
   "source": [
    "df = pd.read_csv('ign_with_reviews.csv').drop(columns=['score_phrase','url']).fillna('')"
   ]
  },
  {
   "cell_type": "markdown",
   "metadata": {},
   "source": [
    "# Removing duplicates\n",
    "\n",
    "Some games (e.g. Overwatch, The Legend of Zelda: Twilight Princess) are on multiple platforms. For a recommender system that is based on terms, it's very easy for cosine similarity methods to make the trivial match because the titles are exactly the same. I'll get around this by combining entries on different platforms and simply list the platforms next to each other in the ```platform``` field (e.g. ```'PC XBox Wii'```).\n",
    "\n",
    "It's conceivable that there are different reviews for the games on different platforms (e.g. Twilight Princess on Wii vs. GameCube, or Dark Souls on the PlayStation vs. PC), but even if there are issues with differences between platforms, it would affect only a small subset of games that I wouldn't even worry about it."
   ]
  },
  {
   "cell_type": "code",
   "execution_count": 3,
   "metadata": {},
   "outputs": [
    {
     "name": "stderr",
     "output_type": "stream",
     "text": [
      "c:\\users\\jeff\\documents\\data_sci\\lib\\site-packages\\pandas\\core\\indexing.py:189: SettingWithCopyWarning: \n",
      "A value is trying to be set on a copy of a slice from a DataFrame\n",
      "\n",
      "See the caveats in the documentation: http://pandas.pydata.org/pandas-docs/stable/indexing.html#indexing-view-versus-copy\n",
      "  self._setitem_with_indexer(indexer, value)\n"
     ]
    }
   ],
   "source": [
    "titles = df['title'].unique()\n",
    "\n",
    "for title in titles:\n",
    "    platforms = df[df['title'] == title]['platform'].unique()\n",
    "    platforms_string = ' '.join(platforms).strip()\n",
    "    \n",
    "    same_title_indices = df[df['title'] == title].index.values\n",
    "    \n",
    "    if len(same_title_indices) > 1:\n",
    "        try:\n",
    "            df['platform'].iloc[same_title_indices[0]] = platforms_string\n",
    "            df = df.drop(same_title_indices[1:]).reset_index(drop=True)\n",
    "        except IndexError:\n",
    "            print('IndexError at: {}'.format(same_title_indices))\n",
    "    "
   ]
  },
  {
   "cell_type": "markdown",
   "metadata": {},
   "source": [
    "And to create a version without the duplicates"
   ]
  },
  {
   "cell_type": "code",
   "execution_count": 13,
   "metadata": {},
   "outputs": [],
   "source": [
    "df.to_csv('ign_with_reviews_no_dup.csv', sep=',', index=False)"
   ]
  },
  {
   "cell_type": "code",
   "execution_count": 7,
   "metadata": {},
   "outputs": [],
   "source": [
    "df = pd.read_csv('ign_with_reviews_no_dup.csv').fillna('')"
   ]
  },
  {
   "cell_type": "markdown",
   "metadata": {},
   "source": [
    "# Examining the corpus\n",
    "\n",
    "To gain some general insights, it would be good to observe what words pop up a lot in reviews for great games. Here, I'll arbitrarily say that great games are ones with scores of 8.5 or more.\n",
    "\n",
    "First I will combine all the relevant fields together."
   ]
  },
  {
   "cell_type": "code",
   "execution_count": 8,
   "metadata": {},
   "outputs": [],
   "source": [
    "def combine_fields(row):\n",
    "    return (''.join(row['title']) + ' ' + ''.join(row['platform']) + ' ' + ''.join(row['genre']) + ' ' + ''.join(row['review']))\n",
    "\n",
    "df['combined'] = df.apply(combine_fields, axis=1)"
   ]
  },
  {
   "cell_type": "markdown",
   "metadata": {},
   "source": [
    "Next, I'm going to use a simple count vectorizer to see how many times words come up."
   ]
  },
  {
   "cell_type": "code",
   "execution_count": 9,
   "metadata": {},
   "outputs": [],
   "source": [
    "from sklearn.feature_extraction.text import CountVectorizer"
   ]
  },
  {
   "cell_type": "markdown",
   "metadata": {},
   "source": [
    "Before I start, I'm going to introduce some stop words from [NLTK](https://www.nltk.org)."
   ]
  },
  {
   "cell_type": "code",
   "execution_count": 10,
   "metadata": {},
   "outputs": [],
   "source": [
    "from nltk.corpus import stopwords"
   ]
  },
  {
   "cell_type": "code",
   "execution_count": 97,
   "metadata": {},
   "outputs": [],
   "source": [
    "stop_words = set(stopwords.words('english'))"
   ]
  },
  {
   "cell_type": "code",
   "execution_count": 90,
   "metadata": {},
   "outputs": [],
   "source": [
    "# it looks like some HTMl got scraped up accidentally\n",
    "stop_words.update(['data','div','span','class','objectcard','widget','autolink',\n",
    "                   'hover','objectrating','objectlegacyid','ratingsubtext','objecttype',\n",
    "                  'objectboxart','url','ul','li','href','none','mediatype','displayprice','media','image',\n",
    "                  'display','autocommerce','commerce', 'zd', 'sub', 'objectreviewscore','img','src'])\n",
    "\n",
    "stop_words.update([''])"
   ]
  },
  {
   "cell_type": "markdown",
   "metadata": {},
   "source": [
    "Eventually, I'd like to add to this set of ```stop_words``` by examining the vocabulary of the more frequent words. Even without the typical stop words set by NLTK, the threshold for document frequency has to be moved down a lot! I eventually found that a maximum document frequency of about 0.3 gave words that could be interesting. Anything higher, and I see words that were unintentionally scraped because of HTML that leaked into the review text."
   ]
  },
  {
   "cell_type": "code",
   "execution_count": 164,
   "metadata": {},
   "outputs": [],
   "source": [
    "count_vectorizer = CountVectorizer(stop_words=stop_words, min_df = 0.05, max_df = 0.35, ngram_range=(1,3))\n",
    "\n",
    "counts = count_vectorizer.fit_transform(df[df['score'] >= 8.5]['combined'])\n",
    "\n",
    "words = count_vectorizer.get_feature_names()\n",
    "\n",
    "counts_matrix = counts.toarray()\n",
    "counts_list = counts_matrix.sum(axis=0)\n",
    "\n",
    "counts_df = pd.DataFrame()\n",
    "\n",
    "counts_df['words'] = words\n",
    "counts_df['counts'] = counts_list"
   ]
  },
  {
   "cell_type": "code",
   "execution_count": 165,
   "metadata": {},
   "outputs": [],
   "source": [
    "sorted_counts = counts_df.sort_values(by=['counts'], ascending=False).reset_index().drop(columns=[\"index\"])\n",
    "\n",
    "sorted_counts.index = sorted_counts['words'].drop(columns=['words'])"
   ]
  },
  {
   "cell_type": "code",
   "execution_count": 166,
   "metadata": {},
   "outputs": [
    {
     "name": "stdout",
     "output_type": "stream",
     "text": [
      "Using matplotlib backend: TkAgg\n"
     ]
    },
    {
     "data": {
      "text/plain": [
       "<matplotlib.axes._subplots.AxesSubplot at 0x2eaf7d70>"
      ]
     },
     "execution_count": 166,
     "metadata": {},
     "output_type": "execute_result"
    }
   ],
   "source": [
    "%matplotlib\n",
    "sorted_counts.plot(kind=\"barh\", use_index=True)"
   ]
  },
  {
   "cell_type": "markdown",
   "metadata": {},
   "source": [
    "With this plot, it's quite easy to gain some insights as to what makes a good game. I had to do a bit of manual scanning for some parts, though in principle if one knew all the possible words to look for, this could be automated.\n",
    "\n",
    "# What platforms are mentioned the most in these reviews?\n",
    "\n",
    "*Based on this cut*, here is what seems to be the platforms that are the most mentioned:\n",
    "\n",
    "1) PC\n",
    "\n",
    "2) XBox\n",
    "\n",
    "3) Wii\n",
    "\n",
    "4) XBox 360\n",
    "\n",
    "6) Game Boy\n",
    "\n",
    "7) PlayStation\n",
    "\n",
    "8) GameCube\n",
    "\n",
    "To be fair to the analysis, single characters like \"1\" or \"a\" tend to be filtered out, so it's hard to say *which* of the PlayStations item number 7 refers to, and which Wii number 3 refers to. What's surprising to me, personally, was that the PlayStation platform was less popular than the Game Boy.\n",
    "\n",
    "I'm not too surprised that the PC has a lot of mentions, as the personal computer has been around for *decades*. The only parts that change are the internals, and ultimately the question of where exactly one should place the PC on this list is exactly the ship of Theseus question of philosophy. Being able to change out parts and improve graphics and performance is likely a major reason why it is at the top of the list. While games, of course, look great on a console, typically the same game on a PC can look and perform so much better (see Fallout and Skyrim, for example).\n",
    "\n",
    "Nintendo is a company and not a platform, but it should be mentioned that the word Nintendo was detected between XBox and Wii (in terms of word count). This is a company that has been around forever and knows how to make great games, so it's no surprise at all that their number of mentions is way up there.\n",
    "\n",
    "# What types of games are mentioned the most in these reviews?\n",
    "\n",
    "I could imagine that some of these words could actually come from a combination of the game genre and the review. As such, I won't necessarily restrict the question to the genre of games, but rather to the types of games, which could extend beyond something like \"RPG\" or \"Fantasy\" and so on.\n",
    "\n",
    "1) RPG\n",
    "\n",
    "2) Strategy\n",
    "\n",
    "3) Racing\n",
    "\n",
    "4) Puzzle\n",
    "\n",
    "5) Online\n",
    "\n",
    "6) Multiplayer\n",
    "\n",
    "7) Sports\n",
    "\n",
    "8) Fighting\n",
    "\n",
    "9) Portable\n",
    "\n",
    "10) Platformer\n",
    "\n",
    "11) Single Player\n",
    "\n",
    "12) Action adventure\n",
    "\n",
    "Something interesting here is that multiplayer is mentioned more than single player (detected by setting the CountVectorizer to spot bigrams). The difference is not too large, but the ranking seems interesting enough to note that perhaps the social aspect of games is a huge appeal.\n",
    "\n",
    "IGN reviewers seem to love talking about RPGs, online games, multiplayer games, and sports games, but I do omit a few of the top listings because I think that some of these types of games could be confused with mechanisms in the game. Strategy can be a genre of game, but the word itself could appear in a review for an RPG, or a racing game, or even some online or multiplayer game. It's not entirely clear just based on word count alone what that means, but IGN reviewers seem to like games that have strategy in it. Racing games like Mario Kart, F-Zero, Gran Turismo, etc. indeed form their own genre, but similar to strategy, I think that the term racing could actually be confused when combined with other genres. In RPGs, you might have racing mini-games; in puzzles you might be racing against a clock. There are so many things that racing could actually appear in, so it's not completely clear how much of racing refers to the actual genre vs. the act of racing against something in-game. "
   ]
  },
  {
   "cell_type": "markdown",
   "metadata": {},
   "source": [
    "# Building a recommender system\n",
    "\n",
    "I'll be comparing the use of a vectorizer using absolute term frequency to one using term frequency-inverse document frequency.\n",
    "\n",
    "The routine for cosine similarity and retrieving recommendations was written with a lot of help from a DataCamp tutorial seen [here](https://www.datacamp.com/community/tutorials/recommender-systems-python). All the data processing, web scraping, and model adjusting is mine, though!"
   ]
  },
  {
   "cell_type": "code",
   "execution_count": 61,
   "metadata": {},
   "outputs": [],
   "source": [
    "from sklearn.feature_extraction.text import TfidfVectorizer\n",
    "\n",
    "from sklearn.metrics.pairwise import cosine_similarity"
   ]
  },
  {
   "cell_type": "markdown",
   "metadata": {},
   "source": [
    "This particular recommender system should never recommend terrible games. To be a bit of an elitist here (and to get around memory issues), I will only recommend games that have a score of 8.5 and above."
   ]
  },
  {
   "cell_type": "code",
   "execution_count": 81,
   "metadata": {},
   "outputs": [],
   "source": [
    "df_rec = df[df['score'] >= 8.5]"
   ]
  },
  {
   "cell_type": "markdown",
   "metadata": {},
   "source": [
    "Some functions to aid in combining the metadata and the review into a huge body of text."
   ]
  },
  {
   "cell_type": "markdown",
   "metadata": {},
   "source": [
    "Here's a helper function to return the 10 most cosine-similar games given the game title, platform, genre, and review. This, of course, assumes that the title passed into ```get_recommendations``` exists."
   ]
  },
  {
   "cell_type": "code",
   "execution_count": 63,
   "metadata": {},
   "outputs": [],
   "source": [
    "df_rec = df_rec.reset_index()\n",
    "indices = pd.Series(df_rec.index, index=df_rec['title'])\n",
    "\n",
    "def get_recommendations(title, cosine_similarity):\n",
    "    if indices[title].shape is not ():\n",
    "        index = indices[title].iloc[0]\n",
    "    else:\n",
    "        index = indices[title]\n",
    "    scores = list(enumerate(cosine_similarity[index]))\n",
    "    scores = sorted(scores, key=lambda x: x[1], reverse=True)\n",
    "    scores = scores[1:11]\n",
    "    \n",
    "    rec_indices = [i[0] for i in scores]\n",
    "    \n",
    "    return df_rec[['title','genre','platform']].iloc[rec_indices]"
   ]
  },
  {
   "cell_type": "markdown",
   "metadata": {},
   "source": [
    "### Combining all fields together"
   ]
  },
  {
   "cell_type": "code",
   "execution_count": 110,
   "metadata": {
    "scrolled": true
   },
   "outputs": [],
   "source": [
    "extra_stopwords = {'ex', 'revolution', 'throne', 'frozen', 'war', 'iii'}\n",
    "\n",
    "tfidf = TfidfVectorizer(stop_words=stop_words.union(extra_stopwords), min_df = 0, max_df = 0.04)\n",
    "tfidf_matrix = tfidf.fit_transform(df_rec['combined'])\n",
    "\n",
    "cos_sim_tfidf = cosine_similarity(tfidf_matrix, tfidf_matrix)"
   ]
  },
  {
   "cell_type": "markdown",
   "metadata": {},
   "source": [
    "### Deus Ex recommendations\n",
    "\n",
    "The only thing I find really off is Nintendogs: Lab & Friends and Cooking Dash 3: Thrills & Spills."
   ]
  },
  {
   "cell_type": "code",
   "execution_count": 111,
   "metadata": {},
   "outputs": [
    {
     "name": "stdout",
     "output_type": "stream",
     "text": [
      "I think you might like:\n"
     ]
    },
    {
     "data": {
      "text/html": [
       "<div>\n",
       "<style scoped>\n",
       "    .dataframe tbody tr th:only-of-type {\n",
       "        vertical-align: middle;\n",
       "    }\n",
       "\n",
       "    .dataframe tbody tr th {\n",
       "        vertical-align: top;\n",
       "    }\n",
       "\n",
       "    .dataframe thead th {\n",
       "        text-align: right;\n",
       "    }\n",
       "</style>\n",
       "<table border=\"1\" class=\"dataframe\">\n",
       "  <thead>\n",
       "    <tr style=\"text-align: right;\">\n",
       "      <th></th>\n",
       "      <th>title</th>\n",
       "      <th>genre</th>\n",
       "      <th>platform</th>\n",
       "    </tr>\n",
       "  </thead>\n",
       "  <tbody>\n",
       "    <tr>\n",
       "      <th>10934</th>\n",
       "      <td>Deus Ex: Human Revolution</td>\n",
       "      <td>Shooter</td>\n",
       "      <td>PC PlayStation 3 Xbox 360</td>\n",
       "    </tr>\n",
       "    <tr>\n",
       "      <th>1819</th>\n",
       "      <td>Deus Ex</td>\n",
       "      <td>RPG</td>\n",
       "      <td>PC Macintosh</td>\n",
       "    </tr>\n",
       "    <tr>\n",
       "      <th>4034</th>\n",
       "      <td>Deus Ex: Invisible War</td>\n",
       "      <td>Action, Adventure</td>\n",
       "      <td>PC Xbox</td>\n",
       "    </tr>\n",
       "    <tr>\n",
       "      <th>11915</th>\n",
       "      <td>The Walking Dead: Season Two -- Episode 2: A H...</td>\n",
       "      <td>Adventure</td>\n",
       "      <td>Xbox 360 iPhone PC PlayStation Vita PlayStation 3</td>\n",
       "    </tr>\n",
       "    <tr>\n",
       "      <th>106</th>\n",
       "      <td>Dishonored</td>\n",
       "      <td>Action</td>\n",
       "      <td>Xbox 360 PC PlayStation 3</td>\n",
       "    </tr>\n",
       "    <tr>\n",
       "      <th>5146</th>\n",
       "      <td>Nintendogs: Lab &amp; Friends</td>\n",
       "      <td>Virtual Pet</td>\n",
       "      <td>Nintendo DS</td>\n",
       "    </tr>\n",
       "    <tr>\n",
       "      <th>11660</th>\n",
       "      <td>Stealth Inc.: A Clone in the Dark</td>\n",
       "      <td>Platformer</td>\n",
       "      <td>PlayStation 3 PlayStation Vita</td>\n",
       "    </tr>\n",
       "    <tr>\n",
       "      <th>3544</th>\n",
       "      <td>.hack//INFECTION (Part 1)</td>\n",
       "      <td>Action, RPG</td>\n",
       "      <td>PlayStation 2</td>\n",
       "    </tr>\n",
       "    <tr>\n",
       "      <th>9</th>\n",
       "      <td>Mark of the Ninja</td>\n",
       "      <td>Action, Adventure</td>\n",
       "      <td>Xbox 360 PC</td>\n",
       "    </tr>\n",
       "    <tr>\n",
       "      <th>10457</th>\n",
       "      <td>Cooking Dash 3: Thrills &amp; Spills</td>\n",
       "      <td>Strategy</td>\n",
       "      <td>PC</td>\n",
       "    </tr>\n",
       "  </tbody>\n",
       "</table>\n",
       "</div>"
      ],
      "text/plain": [
       "                                                   title              genre  \\\n",
       "10934                          Deus Ex: Human Revolution            Shooter   \n",
       "1819                                             Deus Ex                RPG   \n",
       "4034                              Deus Ex: Invisible War  Action, Adventure   \n",
       "11915  The Walking Dead: Season Two -- Episode 2: A H...          Adventure   \n",
       "106                                           Dishonored             Action   \n",
       "5146                           Nintendogs: Lab & Friends        Virtual Pet   \n",
       "11660                  Stealth Inc.: A Clone in the Dark         Platformer   \n",
       "3544                           .hack//INFECTION (Part 1)        Action, RPG   \n",
       "9                                      Mark of the Ninja  Action, Adventure   \n",
       "10457                   Cooking Dash 3: Thrills & Spills           Strategy   \n",
       "\n",
       "                                                platform  \n",
       "10934                          PC PlayStation 3 Xbox 360  \n",
       "1819                                        PC Macintosh  \n",
       "4034                                             PC Xbox  \n",
       "11915  Xbox 360 iPhone PC PlayStation Vita PlayStation 3  \n",
       "106                            Xbox 360 PC PlayStation 3  \n",
       "5146                                         Nintendo DS  \n",
       "11660                     PlayStation 3 PlayStation Vita  \n",
       "3544                                       PlayStation 2  \n",
       "9                                            Xbox 360 PC  \n",
       "10457                                                 PC  "
      ]
     },
     "execution_count": 111,
     "metadata": {},
     "output_type": "execute_result"
    }
   ],
   "source": [
    "print(\"I think you might like:\")\n",
    "get_recommendations('Deus Ex: Mankind Divided', cos_sim_tfidf)"
   ]
  },
  {
   "cell_type": "markdown",
   "metadata": {},
   "source": [
    "### Warcraft 3: The Frozen Throne recommendations\n",
    "\n",
    "I expected that the word \"Warcraft\" ought to give matches to other games with the same name. However, this is something that could use some work. Including \"Warcraft\" into a set of stop words immediately results in some wacky recommendations that likely would not be recommended by any reasonable measure."
   ]
  },
  {
   "cell_type": "code",
   "execution_count": 112,
   "metadata": {},
   "outputs": [
    {
     "name": "stdout",
     "output_type": "stream",
     "text": [
      "I think you might like:\n"
     ]
    },
    {
     "data": {
      "text/html": [
       "<div>\n",
       "<style scoped>\n",
       "    .dataframe tbody tr th:only-of-type {\n",
       "        vertical-align: middle;\n",
       "    }\n",
       "\n",
       "    .dataframe tbody tr th {\n",
       "        vertical-align: top;\n",
       "    }\n",
       "\n",
       "    .dataframe thead th {\n",
       "        text-align: right;\n",
       "    }\n",
       "</style>\n",
       "<table border=\"1\" class=\"dataframe\">\n",
       "  <thead>\n",
       "    <tr style=\"text-align: right;\">\n",
       "      <th></th>\n",
       "      <th>title</th>\n",
       "      <th>genre</th>\n",
       "      <th>platform</th>\n",
       "    </tr>\n",
       "  </thead>\n",
       "  <tbody>\n",
       "    <tr>\n",
       "      <th>4783</th>\n",
       "      <td>World of Warcraft</td>\n",
       "      <td>RPG</td>\n",
       "      <td>PC</td>\n",
       "    </tr>\n",
       "    <tr>\n",
       "      <th>10568</th>\n",
       "      <td>World of Warcraft: Cataclysm</td>\n",
       "      <td>RPG</td>\n",
       "      <td>PC</td>\n",
       "    </tr>\n",
       "    <tr>\n",
       "      <th>3131</th>\n",
       "      <td>Warcraft III: Reign of Chaos</td>\n",
       "      <td>Strategy</td>\n",
       "      <td>PC Macintosh</td>\n",
       "    </tr>\n",
       "    <tr>\n",
       "      <th>22</th>\n",
       "      <td>World of Warcraft: Mists of Pandaria</td>\n",
       "      <td>RPG</td>\n",
       "      <td>PC</td>\n",
       "    </tr>\n",
       "    <tr>\n",
       "      <th>6457</th>\n",
       "      <td>The Sims 2: Seasons</td>\n",
       "      <td>Simulation</td>\n",
       "      <td>PC</td>\n",
       "    </tr>\n",
       "    <tr>\n",
       "      <th>12131</th>\n",
       "      <td>World of Warcraft: Warlords of Draenor</td>\n",
       "      <td>RPG</td>\n",
       "      <td>PC</td>\n",
       "    </tr>\n",
       "    <tr>\n",
       "      <th>8437</th>\n",
       "      <td>World of Warcraft: Wrath of the Lich King</td>\n",
       "      <td>RPG</td>\n",
       "      <td>PC</td>\n",
       "    </tr>\n",
       "    <tr>\n",
       "      <th>8427</th>\n",
       "      <td>World of Warcraft: Wrath of the Lich King (Col...</td>\n",
       "      <td>RPG</td>\n",
       "      <td>PC</td>\n",
       "    </tr>\n",
       "    <tr>\n",
       "      <th>11928</th>\n",
       "      <td>Hearthstone: Heroes of WarCraft</td>\n",
       "      <td>Card, Battle</td>\n",
       "      <td>Macintosh iPad PC</td>\n",
       "    </tr>\n",
       "    <tr>\n",
       "      <th>12473</th>\n",
       "      <td>World of Warcraft: Legion</td>\n",
       "      <td>RPG</td>\n",
       "      <td>PC</td>\n",
       "    </tr>\n",
       "  </tbody>\n",
       "</table>\n",
       "</div>"
      ],
      "text/plain": [
       "                                                   title         genre  \\\n",
       "4783                                   World of Warcraft           RPG   \n",
       "10568                       World of Warcraft: Cataclysm           RPG   \n",
       "3131                        Warcraft III: Reign of Chaos      Strategy   \n",
       "22                  World of Warcraft: Mists of Pandaria           RPG   \n",
       "6457                                 The Sims 2: Seasons    Simulation   \n",
       "12131             World of Warcraft: Warlords of Draenor           RPG   \n",
       "8437           World of Warcraft: Wrath of the Lich King           RPG   \n",
       "8427   World of Warcraft: Wrath of the Lich King (Col...           RPG   \n",
       "11928                    Hearthstone: Heroes of WarCraft  Card, Battle   \n",
       "12473                          World of Warcraft: Legion           RPG   \n",
       "\n",
       "                platform  \n",
       "4783                  PC  \n",
       "10568                 PC  \n",
       "3131        PC Macintosh  \n",
       "22                    PC  \n",
       "6457                  PC  \n",
       "12131                 PC  \n",
       "8437                  PC  \n",
       "8427                  PC  \n",
       "11928  Macintosh iPad PC  \n",
       "12473                 PC  "
      ]
     },
     "execution_count": 112,
     "metadata": {},
     "output_type": "execute_result"
    }
   ],
   "source": [
    "print(\"I think you might like:\")\n",
    "get_recommendations('Warcraft III: The Frozen Throne', cos_sim_tfidf)"
   ]
  },
  {
   "cell_type": "code",
   "execution_count": null,
   "metadata": {},
   "outputs": [],
   "source": []
  }
 ],
 "metadata": {
  "kernelspec": {
   "display_name": "Python 3",
   "language": "python",
   "name": "python3"
  },
  "language_info": {
   "codemirror_mode": {
    "name": "ipython",
    "version": 3
   },
   "file_extension": ".py",
   "mimetype": "text/x-python",
   "name": "python",
   "nbconvert_exporter": "python",
   "pygments_lexer": "ipython3",
   "version": "3.7.0"
  }
 },
 "nbformat": 4,
 "nbformat_minor": 2
}
